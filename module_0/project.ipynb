{
 "cells": [
  {
   "cell_type": "code",
   "execution_count": 4,
   "metadata": {},
   "outputs": [
    {
     "name": "stdout",
     "output_type": "stream",
     "text": [
      "[0, 1, 2, 3, 4, 5, 6, 7, 8, 9, 10, 11, 12, 13, 14, 15, 16, 17, 18, 19, 20, 21, 22, 23, 24, 25, 26, 27, 28, 29, 30, 31, 32, 33, 34, 35, 36, 37, 38, 39, 40, 41, 42, 43, 44, 45, 46, 47, 48, 49, 50, 51, 52, 53, 54, 55, 56, 57, 58, 59, 60, 61, 62, 63, 64, 65, 66, 67, 68, 69, 70, 71, 72, 73, 74, 75, 76, 77, 78, 79, 80, 81, 82, 83, 84, 85, 86, 87, 88, 89, 90, 91, 92, 93, 94, 95, 96, 97, 98, 99]\n",
      "1 попытка\n",
      "2 попытка\n",
      "3 попытка\n",
      "4 попытка\n",
      "5 попытка\n",
      "Количество попыток = 5\n"
     ]
    }
   ],
   "source": [
    "import random\n",
    "a = []\n",
    "for i in range(100):\n",
    "    a.append(i)\n",
    "a.sort()\n",
    "print(a)\n",
    "\n",
    "count = 0\n",
    "low = 0\n",
    "high = len(a) - 1\n",
    "mid = len(a) // 2\n",
    "\n",
    "number = random.randint(1,100)\n",
    "\n",
    "while a[mid] != number and low <= high:\n",
    "   \n",
    "    if number > a[mid]:\n",
    "        low = mid + 1\n",
    "        count += 1\n",
    "    else:\n",
    "        high = mid - 1\n",
    "        count += 1\n",
    "    mid = (low + high) // 2\n",
    "    print(count, \"попытка\")\n",
    "\n",
    "print('Количество попыток =',count)"
   ]
  }
 ],
 "metadata": {
  "kernelspec": {
   "display_name": "Python 3",
   "language": "python",
   "name": "python3"
  },
  "language_info": {
   "codemirror_mode": {
    "name": "ipython",
    "version": 3
   },
   "file_extension": ".py",
   "mimetype": "text/x-python",
   "name": "python",
   "nbconvert_exporter": "python",
   "pygments_lexer": "ipython3",
   "version": "3.7.4"
  }
 },
 "nbformat": 4,
 "nbformat_minor": 2
}
